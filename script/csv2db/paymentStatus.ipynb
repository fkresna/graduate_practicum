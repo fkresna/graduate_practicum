{
 "cells": [
  {
   "cell_type": "code",
   "execution_count": 1,
   "metadata": {
    "collapsed": false
   },
   "outputs": [
    {
     "name": "stdout",
     "output_type": "stream",
     "text": [
      "<pymongo.results.InsertOneResult object at 0x104b78dc0>\n",
      "{'payment_status_id': 0, '_id': ObjectId('563c268e2eb30902f3dca22e'), 'name': 'paid'}\n",
      "<pymongo.results.InsertOneResult object at 0x104b78f50>\n",
      "{'payment_status_id': 1, '_id': ObjectId('563c268e2eb30902f3dca22f'), 'name': 'refund'}\n",
      "<pymongo.results.InsertOneResult object at 0x104b78eb0>\n",
      "{'payment_status_id': 2, '_id': ObjectId('563c268e2eb30902f3dca230'), 'name': 'chargeback'}\n",
      "<pymongo.results.InsertOneResult object at 0x104b78f00>\n",
      "{'payment_status_id': 3, '_id': ObjectId('563c268e2eb30902f3dca231'), 'name': 'pending'}\n",
      "<pymongo.results.InsertOneResult object at 0x104b78dc0>\n",
      "{'payment_status_id': 4, '_id': ObjectId('563c268e2eb30902f3dca232'), 'name': 'authorized'}\n",
      "<pymongo.results.InsertOneResult object at 0x104b78f50>\n",
      "{'payment_status_id': 5, '_id': ObjectId('563c268e2eb30902f3dca233'), 'name': 'fail'}\n",
      "<pymongo.results.InsertOneResult object at 0x104b78eb0>\n",
      "{'payment_status_id': 6, '_id': ObjectId('563c268e2eb30902f3dca234'), 'name': 'declined'}\n"
     ]
    }
   ],
   "source": [
    "import csv\n",
    "from pymongo import MongoClient\n",
    "\n",
    "client = MongoClient()\n",
    "db = client.ecommerceDB\n",
    "\n",
    "#Delete payment_status table if exist, This deletion prevent data duplication\n",
    "db.payment_status.delete_many({})\n",
    "\n",
    "#Predefined payment status\n",
    "payment_status = [\"paid\",\"refund\",\"chargeback\",\"pending\",\"authorized\",\"fail\",\"declined\"]\n",
    "count = 0\n",
    "\n",
    "#Insert JSON data into payment_status table\n",
    "for payment in payment_status:\n",
    "\tjsonString = {'payment_status_id':count,'name':payment}\n",
    "\tresult = db.payment_status.insert_one(jsonString)\n",
    "\tprint result;\n",
    "\tcount = count+1\n",
    "\tprint jsonString\n"
   ]
  },
  {
   "cell_type": "code",
   "execution_count": null,
   "metadata": {
    "collapsed": true
   },
   "outputs": [],
   "source": []
  }
 ],
 "metadata": {
  "kernelspec": {
   "display_name": "Python 2",
   "language": "python",
   "name": "python2"
  },
  "language_info": {
   "codemirror_mode": {
    "name": "ipython",
    "version": 2
   },
   "file_extension": ".py",
   "mimetype": "text/x-python",
   "name": "python",
   "nbconvert_exporter": "python",
   "pygments_lexer": "ipython2",
   "version": "2.7.10"
  }
 },
 "nbformat": 4,
 "nbformat_minor": 0
}
