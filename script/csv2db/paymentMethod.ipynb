{
 "cells": [
  {
   "cell_type": "code",
   "execution_count": 1,
   "metadata": {
    "collapsed": false
   },
   "outputs": [
    {
     "name": "stdout",
     "output_type": "stream",
     "text": [
      "<pymongo.results.InsertOneResult object at 0x104c9de10>\n",
      "{'_id': ObjectId('563c0685600d8d03771e9c21'), 'name': 'visa', 'payment_method_id': 0}\n",
      "<pymongo.results.InsertOneResult object at 0x104c9dfa0>\n",
      "{'_id': ObjectId('563c0685600d8d03771e9c22'), 'name': 'mastercard', 'payment_method_id': 1}\n",
      "<pymongo.results.InsertOneResult object at 0x104c9df00>\n",
      "{'_id': ObjectId('563c0685600d8d03771e9c23'), 'name': 'paypal', 'payment_method_id': 2}\n"
     ]
    }
   ],
   "source": [
    "import csv\n",
    "from pymongo import MongoClient\n",
    "\n",
    "client = MongoClient()\n",
    "db = client.ecommerceDB\n",
    "\n",
    "#Delete payment_method if exist, This deletion prevent data duplication\n",
    "db.payment_method.delete_many({})\n",
    "\n",
    "#Predefined payment method\n",
    "payment_methods = [\"visa\",\"mastercard\",\"paypal\"]\n",
    "count = 0\n",
    "\n",
    "#Insert JSON data into payment_method table\n",
    "for payment in payment_methods:\n",
    "\tjsonString = {'payment_method_id':count,'name':payment}\n",
    "\tresult = db.payment_method.insert_one(jsonString)\n",
    "\tprint result;\n",
    "\tcount = count+1\n",
    "\tprint jsonString"
   ]
  },
  {
   "cell_type": "code",
   "execution_count": null,
   "metadata": {
    "collapsed": true
   },
   "outputs": [],
   "source": []
  }
 ],
 "metadata": {
  "kernelspec": {
   "display_name": "Python 2",
   "language": "python",
   "name": "python2"
  },
  "language_info": {
   "codemirror_mode": {
    "name": "ipython",
    "version": 2
   },
   "file_extension": ".py",
   "mimetype": "text/x-python",
   "name": "python",
   "nbconvert_exporter": "python",
   "pygments_lexer": "ipython2",
   "version": "2.7.10"
  }
 },
 "nbformat": 4,
 "nbformat_minor": 0
}
