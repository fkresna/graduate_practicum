{
 "cells": [
  {
   "cell_type": "code",
   "execution_count": 1,
   "metadata": {
    "collapsed": false
   },
   "outputs": [
    {
     "data": {
      "text/plain": [
       "<pymongo.results.DeleteResult at 0x104c9af00>"
      ]
     },
     "execution_count": 1,
     "metadata": {},
     "output_type": "execute_result"
    }
   ],
   "source": [
    "import csv\n",
    "from pymongo import MongoClient\n",
    "\n",
    "client = MongoClient()\n",
    "db = client.ecommerceDB\n",
    "\n",
    "#Delete shipping table if exist, This deletion prevent data duplication\n",
    "db.shipping.delete_many({})"
   ]
  },
  {
   "cell_type": "code",
   "execution_count": 2,
   "metadata": {
    "collapsed": false
   },
   "outputs": [
    {
     "name": "stdout",
     "output_type": "stream",
     "text": [
      "['Regular Air', 'Delivery Truck', 'Express Air']\n"
     ]
    }
   ],
   "source": [
    "#Read data from csv file\n",
    "with open(\"../../rawDataSet/superstoreSalesData/order.csv\") as f:\n",
    "\treader = csv.reader(f)\n",
    "\tcount = 0\n",
    "\tshippings = [];\n",
    "\tfor row in reader:\n",
    "        #First row is column name\n",
    "\t\tif count != 0:\n",
    "\t\t\tif row[7] not in shippings:\n",
    "\t\t\t\tshippings.append(row[7]);\n",
    "\t\tcount = count + 1\n",
    "print shippings"
   ]
  },
  {
   "cell_type": "code",
   "execution_count": 3,
   "metadata": {
    "collapsed": false
   },
   "outputs": [
    {
     "name": "stdout",
     "output_type": "stream",
     "text": [
      "<pymongo.results.InsertOneResult object at 0x1050d71e0>\n",
      "{'_id': ObjectId('563c312b2eb309038c1a09e5'), 'shipping_id': 0, 'name': 'Regular Air'}\n",
      "<pymongo.results.InsertOneResult object at 0x1050d72d0>\n",
      "{'_id': ObjectId('563c312b2eb309038c1a09e6'), 'shipping_id': 1, 'name': 'Delivery Truck'}\n",
      "<pymongo.results.InsertOneResult object at 0x1050d7190>\n",
      "{'_id': ObjectId('563c312b2eb309038c1a09e7'), 'shipping_id': 2, 'name': 'Express Air'}\n"
     ]
    }
   ],
   "source": [
    "#Insert JSON data into shipping table\n",
    "count = 0\n",
    "for shipping in shippings:\n",
    "\tjsonString = {'shipping_id':count,'name':shipping}\n",
    "\tresult = db.shipping.insert_one(jsonString)\n",
    "\tprint result;\n",
    "\tcount = count+1\n",
    "\tprint jsonString"
   ]
  }
 ],
 "metadata": {
  "kernelspec": {
   "display_name": "Python 2",
   "language": "python",
   "name": "python2"
  },
  "language_info": {
   "codemirror_mode": {
    "name": "ipython",
    "version": 2
   },
   "file_extension": ".py",
   "mimetype": "text/x-python",
   "name": "python",
   "nbconvert_exporter": "python",
   "pygments_lexer": "ipython2",
   "version": "2.7.10"
  }
 },
 "nbformat": 4,
 "nbformat_minor": 0
}
