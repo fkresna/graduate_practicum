{
 "cells": [
  {
   "cell_type": "code",
   "execution_count": 1,
   "metadata": {
    "collapsed": false
   },
   "outputs": [
    {
     "data": {
      "text/plain": [
       "<pymongo.results.DeleteResult at 0x104c9bf50>"
      ]
     },
     "execution_count": 1,
     "metadata": {},
     "output_type": "execute_result"
    }
   ],
   "source": [
    "import csv\n",
    "from pymongo import MongoClient\n",
    "\n",
    "client = MongoClient()\n",
    "db = client.ecommerceDB\n",
    "\n",
    "#Delete product_category table if exist, This deletion prevent data duplication\n",
    "db.product_category.delete_many({})"
   ]
  },
  {
   "cell_type": "code",
   "execution_count": 2,
   "metadata": {
    "collapsed": false
   },
   "outputs": [
    {
     "name": "stdout",
     "output_type": "stream",
     "text": [
      "['Office Supplies', 'Technology', 'Furniture']\n"
     ]
    }
   ],
   "source": [
    "#Read data from csv file\n",
    "with open(\"../../rawDataSet/superstoreSalesData/order.csv\") as f:\n",
    "\treader = csv.reader(f)\n",
    "\tcount = 0\n",
    "\tpCategories = [];\n",
    "\tfor row in reader:\n",
    "        #First row is column name\n",
    "\t\tif count != 0:\n",
    "\t\t\tif row[15] not in pCategories:\n",
    "\t\t\t\tpCategories.append(row[15]);\n",
    "\t\tcount = count + 1\n",
    "print pCategories"
   ]
  },
  {
   "cell_type": "code",
   "execution_count": 3,
   "metadata": {
    "collapsed": false
   },
   "outputs": [
    {
     "name": "stdout",
     "output_type": "stream",
     "text": [
      "<pymongo.results.InsertOneResult object at 0x1050d3230>\n",
      "{'product_category_id': 0, 'name': 'Office Supplies', '_id': ObjectId('563c2f5c2eb309036f1767ec')}\n",
      "<pymongo.results.InsertOneResult object at 0x1050d32d0>\n",
      "{'product_category_id': 1, 'name': 'Technology', '_id': ObjectId('563c2f5c2eb309036f1767ed')}\n",
      "<pymongo.results.InsertOneResult object at 0x1050d31e0>\n",
      "{'product_category_id': 2, 'name': 'Furniture', '_id': ObjectId('563c2f5c2eb309036f1767ee')}\n"
     ]
    }
   ],
   "source": [
    "count = 0\n",
    "for pCategory in pCategories:\n",
    "\tjsonString = {'product_category_id':count,'name':pCategory}\n",
    "\tresult = db.product_category.insert_one(jsonString)\n",
    "\tprint result;\n",
    "\tcount = count+1\n",
    "\tprint jsonString"
   ]
  },
  {
   "cell_type": "code",
   "execution_count": null,
   "metadata": {
    "collapsed": true
   },
   "outputs": [],
   "source": []
  }
 ],
 "metadata": {
  "kernelspec": {
   "display_name": "Python 2",
   "language": "python",
   "name": "python2"
  },
  "language_info": {
   "codemirror_mode": {
    "name": "ipython",
    "version": 2
   },
   "file_extension": ".py",
   "mimetype": "text/x-python",
   "name": "python",
   "nbconvert_exporter": "python",
   "pygments_lexer": "ipython2",
   "version": "2.7.10"
  }
 },
 "nbformat": 4,
 "nbformat_minor": 0
}
