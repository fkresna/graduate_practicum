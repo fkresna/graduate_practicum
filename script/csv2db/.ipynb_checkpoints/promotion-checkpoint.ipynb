{
 "cells": [
  {
   "cell_type": "code",
   "execution_count": 1,
   "metadata": {
    "collapsed": false
   },
   "outputs": [
    {
     "data": {
      "text/plain": [
       "<pymongo.results.DeleteResult at 0x104b9de60>"
      ]
     },
     "execution_count": 1,
     "metadata": {},
     "output_type": "execute_result"
    }
   ],
   "source": [
    "import csv\n",
    "import datetime\n",
    "from pymongo import MongoClient\n",
    "from datetime import date\n",
    "\n",
    "client = MongoClient()\n",
    "db = client.ecommerceDB\n",
    "\n",
    "#Delete promotion table if exist, This deletion prevent data duplication\n",
    "db.promotion.delete_many({})"
   ]
  },
  {
   "cell_type": "code",
   "execution_count": 2,
   "metadata": {
    "collapsed": true
   },
   "outputs": [],
   "source": [
    "#Read data from csv file\n",
    "with open(\"../../rawDataSet/superstoreSalesData/order.csv\") as f:\n",
    "\treader = csv.reader(f)\n",
    "\tcount = 0\n",
    "\tdiscount = [];\n",
    "\tfor row in reader:\n",
    "        #First row is column name\n",
    "\t\tif count != 0:\n",
    "\t\t\tif row[6] not in discount:\n",
    "\t\t\t\tdiscount.append(row[6]);\n",
    "\t\tcount = count + 1"
   ]
  },
  {
   "cell_type": "code",
   "execution_count": 5,
   "metadata": {
    "collapsed": false
   },
   "outputs": [
    {
     "name": "stdout",
     "output_type": "stream",
     "text": [
      "<pymongo.results.InsertOneResult object at 0x1051175f0>\n",
      "<pymongo.results.InsertOneResult object at 0x105117640>\n",
      "<pymongo.results.InsertOneResult object at 0x105117690>\n",
      "<pymongo.results.InsertOneResult object at 0x1051174b0>\n",
      "<pymongo.results.InsertOneResult object at 0x105117460>\n",
      "<pymongo.results.InsertOneResult object at 0x1051175f0>\n",
      "<pymongo.results.InsertOneResult object at 0x105117640>\n",
      "<pymongo.results.InsertOneResult object at 0x105117690>\n",
      "<pymongo.results.InsertOneResult object at 0x1051174b0>\n",
      "<pymongo.results.InsertOneResult object at 0x105117460>\n",
      "<pymongo.results.InsertOneResult object at 0x1051175f0>\n",
      "<pymongo.results.InsertOneResult object at 0x105117640>\n",
      "<pymongo.results.InsertOneResult object at 0x105117690>\n",
      "<pymongo.results.InsertOneResult object at 0x1051174b0>\n",
      "<pymongo.results.InsertOneResult object at 0x105117460>\n",
      "<pymongo.results.InsertOneResult object at 0x1051175f0>\n"
     ]
    }
   ],
   "source": [
    "#Insert JSON data into promotion table\n",
    "for j in range(0,len(discount)):\n",
    "\tcoupon_code = float(discount[j])*100\t\n",
    "\tjsonString = {'coupon_code':coupon_code,'start_date':datetime.datetime(9,1,1),'expiry_date':'','description':'','discount_amount':discount[j]}\n",
    "\tresult = db.promotion.insert_one(jsonString)\n",
    "\tprint result"
   ]
  },
  {
   "cell_type": "code",
   "execution_count": null,
   "metadata": {
    "collapsed": true
   },
   "outputs": [],
   "source": []
  }
 ],
 "metadata": {
  "kernelspec": {
   "display_name": "Python 2",
   "language": "python",
   "name": "python2"
  },
  "language_info": {
   "codemirror_mode": {
    "name": "ipython",
    "version": 2
   },
   "file_extension": ".py",
   "mimetype": "text/x-python",
   "name": "python",
   "nbconvert_exporter": "python",
   "pygments_lexer": "ipython2",
   "version": "2.7.10"
  }
 },
 "nbformat": 4,
 "nbformat_minor": 0
}
