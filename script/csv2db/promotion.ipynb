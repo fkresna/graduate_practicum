{
 "cells": [
  {
   "cell_type": "code",
   "execution_count": 1,
   "metadata": {
    "collapsed": false
   },
   "outputs": [
    {
     "data": {
      "text/plain": [
       "<pymongo.results.DeleteResult at 0x104a6beb0>"
      ]
     },
     "execution_count": 1,
     "metadata": {},
     "output_type": "execute_result"
    }
   ],
   "source": [
    "import csv\n",
    "import datetime\n",
    "from pymongo import MongoClient\n",
    "from datetime import date\n",
    "\n",
    "client = MongoClient()\n",
    "db = client.ecommerceDB\n",
    "\n",
    "#Delete promotion table if exist, This deletion prevent data duplication\n",
    "db.promotion.delete_many({})"
   ]
  },
  {
   "cell_type": "code",
   "execution_count": 2,
   "metadata": {
    "collapsed": false
   },
   "outputs": [
    {
     "name": "stdout",
     "output_type": "stream",
     "text": [
      "['0.04', '0.07', '0.01', '0.08', '0.05', '0.03', '0.09', '0', '0.02', '0.25', '0.06', '0.1', '0.21', '0.11', '0.17', '0.16']\n"
     ]
    }
   ],
   "source": [
    "#Read data from csv file\n",
    "with open(\"../../rawDataSet/superstoreSalesData/order.csv\") as f:\n",
    "\treader = csv.reader(f)\n",
    "\tcount = 0\n",
    "\tdiscount = [];\n",
    "\tfor row in reader:\n",
    "        #First row is column name\n",
    "\t\tif count != 0:\n",
    "\t\t\tif row[6] not in discount:\n",
    "\t\t\t\tdiscount.append(row[6])\n",
    "\t\t\t\t#print row[6]\n",
    "\t\tcount = count + 1\n",
    "print discount"
   ]
  },
  {
   "cell_type": "code",
   "execution_count": 3,
   "metadata": {
    "collapsed": false
   },
   "outputs": [
    {
     "name": "stdout",
     "output_type": "stream",
     "text": [
      "{'description': '', 'coupon_code': 4, 'expiry_date': '', '_id': ObjectId('56440b10f943710288c790b9'), 'start_date': datetime.datetime(9, 1, 1, 0, 0), 'discount_amount': '0.04'}\n",
      "<pymongo.results.InsertOneResult object at 0x104aa41e0>\n",
      "{'description': '', 'coupon_code': 7, 'expiry_date': '', '_id': ObjectId('56440b10f943710288c790ba'), 'start_date': datetime.datetime(9, 1, 1, 0, 0), 'discount_amount': '0.07'}\n",
      "<pymongo.results.InsertOneResult object at 0x104aa4230>\n",
      "{'description': '', 'coupon_code': 1, 'expiry_date': '', '_id': ObjectId('56440b10f943710288c790bb'), 'start_date': datetime.datetime(9, 1, 1, 0, 0), 'discount_amount': '0.01'}\n",
      "<pymongo.results.InsertOneResult object at 0x104aa4410>\n",
      "{'description': '', 'coupon_code': 8, 'expiry_date': '', '_id': ObjectId('56440b10f943710288c790bc'), 'start_date': datetime.datetime(9, 1, 1, 0, 0), 'discount_amount': '0.08'}\n",
      "<pymongo.results.InsertOneResult object at 0x104aa44b0>\n",
      "{'description': '', 'coupon_code': 5, 'expiry_date': '', '_id': ObjectId('56440b10f943710288c790bd'), 'start_date': datetime.datetime(9, 1, 1, 0, 0), 'discount_amount': '0.05'}\n",
      "<pymongo.results.InsertOneResult object at 0x104aa41e0>\n",
      "{'description': '', 'coupon_code': 3, 'expiry_date': '', '_id': ObjectId('56440b10f943710288c790be'), 'start_date': datetime.datetime(9, 1, 1, 0, 0), 'discount_amount': '0.03'}\n",
      "<pymongo.results.InsertOneResult object at 0x104aa4230>\n",
      "{'description': '', 'coupon_code': 9, 'expiry_date': '', '_id': ObjectId('56440b10f943710288c790bf'), 'start_date': datetime.datetime(9, 1, 1, 0, 0), 'discount_amount': '0.09'}\n",
      "<pymongo.results.InsertOneResult object at 0x104aa4410>\n",
      "{'description': '', 'coupon_code': 0, 'expiry_date': '', '_id': ObjectId('56440b10f943710288c790c0'), 'start_date': datetime.datetime(9, 1, 1, 0, 0), 'discount_amount': '0'}\n",
      "<pymongo.results.InsertOneResult object at 0x104aa44b0>\n",
      "{'description': '', 'coupon_code': 2, 'expiry_date': '', '_id': ObjectId('56440b10f943710288c790c1'), 'start_date': datetime.datetime(9, 1, 1, 0, 0), 'discount_amount': '0.02'}\n",
      "<pymongo.results.InsertOneResult object at 0x104aa41e0>\n",
      "{'description': '', 'coupon_code': 25, 'expiry_date': '', '_id': ObjectId('56440b10f943710288c790c2'), 'start_date': datetime.datetime(9, 1, 1, 0, 0), 'discount_amount': '0.25'}\n",
      "<pymongo.results.InsertOneResult object at 0x104aa4230>\n",
      "{'description': '', 'coupon_code': 6, 'expiry_date': '', '_id': ObjectId('56440b10f943710288c790c3'), 'start_date': datetime.datetime(9, 1, 1, 0, 0), 'discount_amount': '0.06'}\n",
      "<pymongo.results.InsertOneResult object at 0x104aa4410>\n",
      "{'description': '', 'coupon_code': 10, 'expiry_date': '', '_id': ObjectId('56440b10f943710288c790c4'), 'start_date': datetime.datetime(9, 1, 1, 0, 0), 'discount_amount': '0.1'}\n",
      "<pymongo.results.InsertOneResult object at 0x104aa44b0>\n",
      "{'description': '', 'coupon_code': 21, 'expiry_date': '', '_id': ObjectId('56440b10f943710288c790c5'), 'start_date': datetime.datetime(9, 1, 1, 0, 0), 'discount_amount': '0.21'}\n",
      "<pymongo.results.InsertOneResult object at 0x104aa41e0>\n",
      "{'description': '', 'coupon_code': 11, 'expiry_date': '', '_id': ObjectId('56440b10f943710288c790c6'), 'start_date': datetime.datetime(9, 1, 1, 0, 0), 'discount_amount': '0.11'}\n",
      "<pymongo.results.InsertOneResult object at 0x104aa4230>\n",
      "{'description': '', 'coupon_code': 17, 'expiry_date': '', '_id': ObjectId('56440b10f943710288c790c7'), 'start_date': datetime.datetime(9, 1, 1, 0, 0), 'discount_amount': '0.17'}\n",
      "<pymongo.results.InsertOneResult object at 0x104aa4410>\n",
      "{'description': '', 'coupon_code': 16, 'expiry_date': '', '_id': ObjectId('56440b10f943710288c790c8'), 'start_date': datetime.datetime(9, 1, 1, 0, 0), 'discount_amount': '0.16'}\n",
      "<pymongo.results.InsertOneResult object at 0x104aa44b0>\n"
     ]
    }
   ],
   "source": [
    "#Insert JSON data into promotion table\n",
    "for j in range(0,len(discount)):\n",
    "\tcoupon_code = int(float(discount[j])*100)\n",
    "\tjsonString = {'coupon_code':coupon_code,'start_date':datetime.datetime(9,1,1),'expiry_date':'','description':'','discount_amount':discount[j]}\n",
    "\tresult = db.promotion.insert_one(jsonString)\n",
    "\tprint jsonString\n",
    "\tprint result"
   ]
  },
  {
   "cell_type": "code",
   "execution_count": null,
   "metadata": {
    "collapsed": true
   },
   "outputs": [],
   "source": []
  },
  {
   "cell_type": "code",
   "execution_count": null,
   "metadata": {
    "collapsed": true
   },
   "outputs": [],
   "source": []
  }
 ],
 "metadata": {
  "kernelspec": {
   "display_name": "Python 2",
   "language": "python",
   "name": "python2"
  },
  "language_info": {
   "codemirror_mode": {
    "name": "ipython",
    "version": 2
   },
   "file_extension": ".py",
   "mimetype": "text/x-python",
   "name": "python",
   "nbconvert_exporter": "python",
   "pygments_lexer": "ipython2",
   "version": "2.7.10"
  }
 },
 "nbformat": 4,
 "nbformat_minor": 0
}
