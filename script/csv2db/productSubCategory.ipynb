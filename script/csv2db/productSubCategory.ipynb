{
 "cells": [
  {
   "cell_type": "code",
   "execution_count": 1,
   "metadata": {
    "collapsed": false
   },
   "outputs": [
    {
     "name": "stdout",
     "output_type": "stream",
     "text": [
      "{u'_id': ObjectId('5637f4812eb30902ab092725'), u'product_category_id': 0, u'name': u'Office Supplies'}\n",
      "{u'_id': ObjectId('5637f4812eb30902ab092726'), u'product_category_id': 1, u'name': u'Technology'}\n",
      "{u'_id': ObjectId('5637f4812eb30902ab092727'), u'product_category_id': 2, u'name': u'Furniture'}\n",
      "['Storage & Organization', 'Appliances', 'Binders and Binder Accessories', 'Telephones and Communication', 'Office Furnishings', 'Paper', 'Rubber Bands', 'Computer Peripherals', 'Envelopes', 'Bookcases', 'Tables', 'Labels', 'Pens & Art Supplies', 'Copiers and Fax', 'Chairs & Chairmats', 'Scissors, Rulers and Trimmers', 'Office Machines']\n",
      "<pymongo.results.InsertOneResult object at 0x104aaa0a0>\n",
      "{'product_subcategory_id': 0, 'product_category_id': 0, 'name': 'Storage & Organization', '_id': ObjectId('563c2ae02eb3090330b8b10b')}\n",
      "<pymongo.results.InsertOneResult object at 0x104aaa1e0>\n",
      "{'product_subcategory_id': 1, 'product_category_id': 0, 'name': 'Appliances', '_id': ObjectId('563c2ae02eb3090330b8b10c')}\n",
      "<pymongo.results.InsertOneResult object at 0x104aaa050>\n",
      "{'product_subcategory_id': 2, 'product_category_id': 0, 'name': 'Binders and Binder Accessories', '_id': ObjectId('563c2ae02eb3090330b8b10d')}\n",
      "<pymongo.results.InsertOneResult object at 0x104aaa0f0>\n",
      "{'product_subcategory_id': 3, 'product_category_id': 1, 'name': 'Telephones and Communication', '_id': ObjectId('563c2ae02eb3090330b8b10e')}\n",
      "<pymongo.results.InsertOneResult object at 0x104aaa1e0>\n",
      "{'product_subcategory_id': 4, 'product_category_id': 2, 'name': 'Office Furnishings', '_id': ObjectId('563c2ae02eb3090330b8b10f')}\n",
      "<pymongo.results.InsertOneResult object at 0x104aaa050>\n",
      "{'product_subcategory_id': 5, 'product_category_id': 0, 'name': 'Paper', '_id': ObjectId('563c2ae02eb3090330b8b110')}\n",
      "<pymongo.results.InsertOneResult object at 0x104aaa0a0>\n",
      "{'product_subcategory_id': 6, 'product_category_id': 0, 'name': 'Rubber Bands', '_id': ObjectId('563c2ae02eb3090330b8b111')}\n",
      "<pymongo.results.InsertOneResult object at 0x104aaa0f0>\n",
      "{'product_subcategory_id': 7, 'product_category_id': 1, 'name': 'Computer Peripherals', '_id': ObjectId('563c2ae02eb3090330b8b112')}\n",
      "<pymongo.results.InsertOneResult object at 0x104aaa1e0>\n",
      "{'product_subcategory_id': 8, 'product_category_id': 0, 'name': 'Envelopes', '_id': ObjectId('563c2ae02eb3090330b8b113')}\n",
      "<pymongo.results.InsertOneResult object at 0x104aaa050>\n",
      "{'product_subcategory_id': 9, 'product_category_id': 2, 'name': 'Bookcases', '_id': ObjectId('563c2ae02eb3090330b8b114')}\n",
      "<pymongo.results.InsertOneResult object at 0x104aaa0a0>\n",
      "{'product_subcategory_id': 10, 'product_category_id': 2, 'name': 'Tables', '_id': ObjectId('563c2ae02eb3090330b8b115')}\n",
      "<pymongo.results.InsertOneResult object at 0x104aaa0f0>\n",
      "{'product_subcategory_id': 11, 'product_category_id': 0, 'name': 'Labels', '_id': ObjectId('563c2ae02eb3090330b8b116')}\n",
      "<pymongo.results.InsertOneResult object at 0x104aaa1e0>\n",
      "{'product_subcategory_id': 12, 'product_category_id': 0, 'name': 'Pens & Art Supplies', '_id': ObjectId('563c2ae02eb3090330b8b117')}\n",
      "<pymongo.results.InsertOneResult object at 0x104aaa050>\n",
      "{'product_subcategory_id': 13, 'product_category_id': 1, 'name': 'Copiers and Fax', '_id': ObjectId('563c2ae02eb3090330b8b118')}\n",
      "<pymongo.results.InsertOneResult object at 0x104aaa0a0>\n",
      "{'product_subcategory_id': 14, 'product_category_id': 2, 'name': 'Chairs & Chairmats', '_id': ObjectId('563c2ae02eb3090330b8b119')}\n",
      "<pymongo.results.InsertOneResult object at 0x104aaa0f0>\n",
      "{'product_subcategory_id': 15, 'product_category_id': 0, 'name': 'Scissors, Rulers and Trimmers', '_id': ObjectId('563c2ae02eb3090330b8b11a')}\n",
      "<pymongo.results.InsertOneResult object at 0x104aaa1e0>\n",
      "{'product_subcategory_id': 16, 'product_category_id': 1, 'name': 'Office Machines', '_id': ObjectId('563c2ae02eb3090330b8b11b')}\n"
     ]
    }
   ],
   "source": [
    "import csv\n",
    "from pymongo import MongoClient\n",
    "\n",
    "client = MongoClient()\n",
    "db = client.ecommerceDB\n",
    "\n",
    "#Delete product table if exist, This deletion prevent data duplication\n",
    "db.product_subcategory.delete_many({})\n",
    "\n",
    "#Select all data from product_category table \n",
    "cursor = db.product_category.find();\n",
    "productID = []\n",
    "countProduct = 0\n",
    "productName = []\n",
    "for document in cursor:\n",
    "\tproductID.append(document['product_category_id']);\n",
    "\tproductName.append(document['name']);\n",
    "\tcountProduct = countProduct + 1\n",
    "\tprint document"
   ]
  },
  {
   "cell_type": "code",
   "execution_count": 5,
   "metadata": {
    "collapsed": false
   },
   "outputs": [],
   "source": [
    "#Read data from csv file\n",
    "with open(\"../../rawDataSet/superstoreSalesData/order.csv\") as f:\n",
    "\treader = csv.reader(f)\n",
    "\tcount = 0\n",
    "\tpSubCategories = [];\n",
    "\tpCategoriesID = [];\n",
    "\tpSubCategoriesID = [];\n",
    "\tfor row in reader:\n",
    "\t\tif count != 0:\n",
    "            #Make sure the product sub category has not on the list yet\n",
    "\t\t\tif row[16] not in pSubCategories:\n",
    "\t\t\t\tpSubCategories.append(row[16]);\n",
    "\t\t\t\tif row[15] in productName:\n",
    "\t\t\t\t\tpCategoriesID.append(productID[i])\n",
    "\t\tcount = count + 1"
   ]
  },
  {
   "cell_type": "code",
   "execution_count": 6,
   "metadata": {
    "collapsed": false
   },
   "outputs": [
    {
     "name": "stdout",
     "output_type": "stream",
     "text": [
      "<pymongo.results.InsertOneResult object at 0x104aaa0f0>\n",
      "{'product_subcategory_id': 0, 'product_category_id': 2, 'name': 'Storage & Organization', '_id': ObjectId('563c2d952eb3090330b8b12d')}\n",
      "<pymongo.results.InsertOneResult object at 0x104aaa320>\n",
      "{'product_subcategory_id': 1, 'product_category_id': 2, 'name': 'Appliances', '_id': ObjectId('563c2d952eb3090330b8b12e')}\n",
      "<pymongo.results.InsertOneResult object at 0x104aaa050>\n",
      "{'product_subcategory_id': 2, 'product_category_id': 2, 'name': 'Binders and Binder Accessories', '_id': ObjectId('563c2d952eb3090330b8b12f')}\n",
      "<pymongo.results.InsertOneResult object at 0x104aaa5a0>\n",
      "{'product_subcategory_id': 3, 'product_category_id': 2, 'name': 'Telephones and Communication', '_id': ObjectId('563c2d952eb3090330b8b130')}\n",
      "<pymongo.results.InsertOneResult object at 0x104aaa6e0>\n",
      "{'product_subcategory_id': 4, 'product_category_id': 2, 'name': 'Office Furnishings', '_id': ObjectId('563c2d952eb3090330b8b131')}\n",
      "<pymongo.results.InsertOneResult object at 0x104aaa320>\n",
      "{'product_subcategory_id': 5, 'product_category_id': 2, 'name': 'Paper', '_id': ObjectId('563c2d952eb3090330b8b132')}\n",
      "<pymongo.results.InsertOneResult object at 0x104aaa0f0>\n",
      "{'product_subcategory_id': 6, 'product_category_id': 2, 'name': 'Rubber Bands', '_id': ObjectId('563c2d952eb3090330b8b133')}\n",
      "<pymongo.results.InsertOneResult object at 0x104aaa5a0>\n",
      "{'product_subcategory_id': 7, 'product_category_id': 2, 'name': 'Computer Peripherals', '_id': ObjectId('563c2d952eb3090330b8b134')}\n",
      "<pymongo.results.InsertOneResult object at 0x104aaa6e0>\n",
      "{'product_subcategory_id': 8, 'product_category_id': 2, 'name': 'Envelopes', '_id': ObjectId('563c2d952eb3090330b8b135')}\n",
      "<pymongo.results.InsertOneResult object at 0x104aaa320>\n",
      "{'product_subcategory_id': 9, 'product_category_id': 2, 'name': 'Bookcases', '_id': ObjectId('563c2d952eb3090330b8b136')}\n",
      "<pymongo.results.InsertOneResult object at 0x104aaa0f0>\n",
      "{'product_subcategory_id': 10, 'product_category_id': 2, 'name': 'Tables', '_id': ObjectId('563c2d952eb3090330b8b137')}\n",
      "<pymongo.results.InsertOneResult object at 0x104aaa5a0>\n",
      "{'product_subcategory_id': 11, 'product_category_id': 2, 'name': 'Labels', '_id': ObjectId('563c2d952eb3090330b8b138')}\n",
      "<pymongo.results.InsertOneResult object at 0x104aaa6e0>\n",
      "{'product_subcategory_id': 12, 'product_category_id': 2, 'name': 'Pens & Art Supplies', '_id': ObjectId('563c2d952eb3090330b8b139')}\n",
      "<pymongo.results.InsertOneResult object at 0x104aaa320>\n",
      "{'product_subcategory_id': 13, 'product_category_id': 2, 'name': 'Copiers and Fax', '_id': ObjectId('563c2d952eb3090330b8b13a')}\n",
      "<pymongo.results.InsertOneResult object at 0x104aaa0f0>\n",
      "{'product_subcategory_id': 14, 'product_category_id': 2, 'name': 'Chairs & Chairmats', '_id': ObjectId('563c2d952eb3090330b8b13b')}\n",
      "<pymongo.results.InsertOneResult object at 0x104aaa5a0>\n",
      "{'product_subcategory_id': 15, 'product_category_id': 2, 'name': 'Scissors, Rulers and Trimmers', '_id': ObjectId('563c2d952eb3090330b8b13c')}\n",
      "<pymongo.results.InsertOneResult object at 0x104aaa6e0>\n",
      "{'product_subcategory_id': 16, 'product_category_id': 2, 'name': 'Office Machines', '_id': ObjectId('563c2d952eb3090330b8b13d')}\n"
     ]
    }
   ],
   "source": [
    "#Insert JSON data into product_subcategory table\n",
    "for j in range(0,len(pSubCategories)):\n",
    "\tjsonString = {'product_subcategory_id':j,'name':pSubCategories[j],'product_category_id':pCategoriesID[j]}\n",
    "\tresult = db.product_subcategory.insert_one(jsonString)\n",
    "\tprint result;\n",
    "\tprint jsonString"
   ]
  }
 ],
 "metadata": {
  "kernelspec": {
   "display_name": "Python 2",
   "language": "python",
   "name": "python2"
  },
  "language_info": {
   "codemirror_mode": {
    "name": "ipython",
    "version": 2
   },
   "file_extension": ".py",
   "mimetype": "text/x-python",
   "name": "python",
   "nbconvert_exporter": "python",
   "pygments_lexer": "ipython2",
   "version": "2.7.10"
  }
 },
 "nbformat": 4,
 "nbformat_minor": 0
}
