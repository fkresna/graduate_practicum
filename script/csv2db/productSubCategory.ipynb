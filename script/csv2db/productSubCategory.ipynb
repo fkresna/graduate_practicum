{
 "cells": [
  {
   "cell_type": "code",
   "execution_count": 2,
   "metadata": {
    "collapsed": false
   },
   "outputs": [
    {
     "name": "stdout",
     "output_type": "stream",
     "text": [
      "{u'_id': ObjectId('563c2f5c2eb309036f1767ec'), u'product_category_id': 0, u'name': u'Office Supplies'}\n",
      "{u'_id': ObjectId('563c2f5c2eb309036f1767ed'), u'product_category_id': 1, u'name': u'Technology'}\n",
      "{u'_id': ObjectId('563c2f5c2eb309036f1767ee'), u'product_category_id': 2, u'name': u'Furniture'}\n"
     ]
    }
   ],
   "source": [
    "import csv\n",
    "from pymongo import MongoClient\n",
    "\n",
    "client = MongoClient()\n",
    "db = client.ecommerceDB\n",
    "\n",
    "#Delete product table if exist, This deletion prevent data duplication\n",
    "db.product_subcategory.delete_many({})\n",
    "\n",
    "#Select all data from product_category table \n",
    "cursor = db.product_category.find();\n",
    "productID = []\n",
    "countProduct = 0\n",
    "productName = []\n",
    "for document in cursor:\n",
    "\tproductID.append(document['product_category_id']);\n",
    "\tproductName.append(document['name']);\n",
    "\tcountProduct = countProduct + 1\n",
    "\tprint document"
   ]
  },
  {
   "cell_type": "code",
   "execution_count": 4,
   "metadata": {
    "collapsed": false
   },
   "outputs": [],
   "source": [
    "#Read data from csv file\n",
    "with open(\"../../rawDataSet/superstoreSalesData/order.csv\") as f:\n",
    "\treader = csv.reader(f)\n",
    "\tcount = 0\n",
    "\tpSubCategories = [];\n",
    "\tpCategoriesID = [];\n",
    "\tpSubCategoriesID = [];\n",
    "\tfor row in reader:\n",
    "\t\tif count != 0:\n",
    "            #Make sure the product sub category has not on the list yet\n",
    "\t\t\tif row[16] not in pSubCategories:\n",
    "\t\t\t\tpSubCategories.append(row[16]);\n",
    "\t\t\t\tfor i in range(0,len(productName)):\n",
    "\t\t\t\t\tif row[15] in productName:\n",
    "\t\t\t\t\t\tpCategoriesID.append(productID[i])\n",
    "\t\tcount = count + 1"
   ]
  },
  {
   "cell_type": "code",
   "execution_count": 5,
   "metadata": {
    "collapsed": false
   },
   "outputs": [
    {
     "name": "stdout",
     "output_type": "stream",
     "text": [
      "<pymongo.results.InsertOneResult object at 0x10535b050>\n",
      "{'product_subcategory_id': 0, 'product_category_id': 0, 'name': 'Storage & Organization', '_id': ObjectId('5647f38f4bc97603ad026572')}\n",
      "<pymongo.results.InsertOneResult object at 0x10535b0a0>\n",
      "{'product_subcategory_id': 1, 'product_category_id': 1, 'name': 'Appliances', '_id': ObjectId('5647f38f4bc97603ad026573')}\n",
      "<pymongo.results.InsertOneResult object at 0x10535b050>\n",
      "{'product_subcategory_id': 2, 'product_category_id': 2, 'name': 'Binders and Binder Accessories', '_id': ObjectId('5647f38f4bc97603ad026574')}\n",
      "<pymongo.results.InsertOneResult object at 0x10535b0a0>\n",
      "{'product_subcategory_id': 3, 'product_category_id': 0, 'name': 'Telephones and Communication', '_id': ObjectId('5647f38f4bc97603ad026575')}\n",
      "<pymongo.results.InsertOneResult object at 0x10535b050>\n",
      "{'product_subcategory_id': 4, 'product_category_id': 1, 'name': 'Office Furnishings', '_id': ObjectId('5647f38f4bc97603ad026576')}\n",
      "<pymongo.results.InsertOneResult object at 0x10535b0a0>\n",
      "{'product_subcategory_id': 5, 'product_category_id': 2, 'name': 'Paper', '_id': ObjectId('5647f38f4bc97603ad026577')}\n",
      "<pymongo.results.InsertOneResult object at 0x10535b050>\n",
      "{'product_subcategory_id': 6, 'product_category_id': 0, 'name': 'Rubber Bands', '_id': ObjectId('5647f38f4bc97603ad026578')}\n",
      "<pymongo.results.InsertOneResult object at 0x10535b0a0>\n",
      "{'product_subcategory_id': 7, 'product_category_id': 1, 'name': 'Computer Peripherals', '_id': ObjectId('5647f38f4bc97603ad026579')}\n",
      "<pymongo.results.InsertOneResult object at 0x10535b050>\n",
      "{'product_subcategory_id': 8, 'product_category_id': 2, 'name': 'Envelopes', '_id': ObjectId('5647f38f4bc97603ad02657a')}\n",
      "<pymongo.results.InsertOneResult object at 0x10535b0a0>\n",
      "{'product_subcategory_id': 9, 'product_category_id': 0, 'name': 'Bookcases', '_id': ObjectId('5647f38f4bc97603ad02657b')}\n",
      "<pymongo.results.InsertOneResult object at 0x10535b050>\n",
      "{'product_subcategory_id': 10, 'product_category_id': 1, 'name': 'Tables', '_id': ObjectId('5647f38f4bc97603ad02657c')}\n",
      "<pymongo.results.InsertOneResult object at 0x10535b0a0>\n",
      "{'product_subcategory_id': 11, 'product_category_id': 2, 'name': 'Labels', '_id': ObjectId('5647f38f4bc97603ad02657d')}\n",
      "<pymongo.results.InsertOneResult object at 0x10535b050>\n",
      "{'product_subcategory_id': 12, 'product_category_id': 0, 'name': 'Pens & Art Supplies', '_id': ObjectId('5647f38f4bc97603ad02657e')}\n",
      "<pymongo.results.InsertOneResult object at 0x10535b0a0>\n",
      "{'product_subcategory_id': 13, 'product_category_id': 1, 'name': 'Copiers and Fax', '_id': ObjectId('5647f38f4bc97603ad02657f')}\n",
      "<pymongo.results.InsertOneResult object at 0x10535b050>\n",
      "{'product_subcategory_id': 14, 'product_category_id': 2, 'name': 'Chairs & Chairmats', '_id': ObjectId('5647f38f4bc97603ad026580')}\n",
      "<pymongo.results.InsertOneResult object at 0x10535b0a0>\n",
      "{'product_subcategory_id': 15, 'product_category_id': 0, 'name': 'Scissors, Rulers and Trimmers', '_id': ObjectId('5647f38f4bc97603ad026581')}\n",
      "<pymongo.results.InsertOneResult object at 0x10535b050>\n",
      "{'product_subcategory_id': 16, 'product_category_id': 1, 'name': 'Office Machines', '_id': ObjectId('5647f38f4bc97603ad026582')}\n"
     ]
    }
   ],
   "source": [
    "#Insert JSON data into product_subcategory table\n",
    "for j in range(0,len(pSubCategories)):\n",
    "\tjsonString = {'product_subcategory_id':j,'name':pSubCategories[j],'product_category_id':pCategoriesID[j]}\n",
    "\tresult = db.product_subcategory.insert_one(jsonString)\n",
    "\tprint result;\n",
    "\tprint jsonString"
   ]
  },
  {
   "cell_type": "code",
   "execution_count": null,
   "metadata": {
    "collapsed": true
   },
   "outputs": [],
   "source": []
  },
  {
   "cell_type": "code",
   "execution_count": null,
   "metadata": {
    "collapsed": true
   },
   "outputs": [],
   "source": []
  }
 ],
 "metadata": {
  "kernelspec": {
   "display_name": "Python 2",
   "language": "python",
   "name": "python2"
  },
  "language_info": {
   "codemirror_mode": {
    "name": "ipython",
    "version": 2
   },
   "file_extension": ".py",
   "mimetype": "text/x-python",
   "name": "python",
   "nbconvert_exporter": "python",
   "pygments_lexer": "ipython2",
   "version": "2.7.10"
  }
 },
 "nbformat": 4,
 "nbformat_minor": 0
}
