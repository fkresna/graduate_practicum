{
 "cells": [
  {
   "cell_type": "code",
   "execution_count": 1,
   "metadata": {
    "collapsed": false
   },
   "outputs": [
    {
     "name": "stdout",
     "output_type": "stream",
     "text": [
      "{'province': u'Nunavut', 'country_ISO_code': 'CA', 'region': u'Nunavut', 'country_id': 0, 'country_name': 'Canada', '_id': ObjectId('564ffecae7cc2103c5f85bd2')}\n",
      "<pymongo.results.InsertOneResult object at 0x104ca4b40>\n",
      "{'province': u'Northwest Territories', 'country_ISO_code': 'CA', 'region': u'Northwest Territories', 'country_id': 1, 'country_name': 'Canada', '_id': ObjectId('564ffecae7cc2103c5f85bd3')}\n",
      "<pymongo.results.InsertOneResult object at 0x104ca4cd0>\n",
      "{'province': u'Prince Edward Island', 'country_ISO_code': 'CA', 'region': u'Atlantic', 'country_id': 2, 'country_name': 'Canada', '_id': ObjectId('564ffecae7cc2103c5f85bd4')}\n",
      "<pymongo.results.InsertOneResult object at 0x104ca4c30>\n",
      "{'province': u'Manitoba', 'country_ISO_code': 'CA', 'region': u'Prarie', 'country_id': 3, 'country_name': 'Canada', '_id': ObjectId('564ffecae7cc2103c5f85bd5')}\n",
      "<pymongo.results.InsertOneResult object at 0x104ca4b40>\n",
      "{'province': u'British Columbia', 'country_ISO_code': 'CA', 'region': u'West', 'country_id': 4, 'country_name': 'Canada', '_id': ObjectId('564ffecae7cc2103c5f85bd6')}\n",
      "<pymongo.results.InsertOneResult object at 0x104ca4c80>\n",
      "{'province': u'Nova Scotia', 'country_ISO_code': 'CA', 'region': u'Atlantic', 'country_id': 5, 'country_name': 'Canada', '_id': ObjectId('564ffecae7cc2103c5f85bd7')}\n",
      "<pymongo.results.InsertOneResult object at 0x104ca4be0>\n",
      "{'province': u'Ontario', 'country_ISO_code': 'CA', 'region': u'Ontario', 'country_id': 6, 'country_name': 'Canada', '_id': ObjectId('564ffecae7cc2103c5f85bd8')}\n",
      "<pymongo.results.InsertOneResult object at 0x104ca4c30>\n",
      "{'province': u'Newfoundland', 'country_ISO_code': 'CA', 'region': u'Atlantic', 'country_id': 7, 'country_name': 'Canada', '_id': ObjectId('564ffecae7cc2103c5f85bd9')}\n",
      "<pymongo.results.InsertOneResult object at 0x104ca4b40>\n",
      "{'province': u'Quebec', 'country_ISO_code': 'CA', 'region': u'Quebec', 'country_id': 8, 'country_name': 'Canada', '_id': ObjectId('564ffecae7cc2103c5f85bda')}\n",
      "<pymongo.results.InsertOneResult object at 0x104ca4c80>\n",
      "{'province': u'New Brunswick', 'country_ISO_code': 'CA', 'region': u'Atlantic', 'country_id': 9, 'country_name': 'Canada', '_id': ObjectId('564ffecae7cc2103c5f85bdb')}\n",
      "<pymongo.results.InsertOneResult object at 0x104ca4be0>\n",
      "{'province': u'Saskachewan', 'country_ISO_code': 'CA', 'region': u'Prarie', 'country_id': 10, 'country_name': 'Canada', '_id': ObjectId('564ffecae7cc2103c5f85bdc')}\n",
      "<pymongo.results.InsertOneResult object at 0x104ca4c30>\n",
      "{'province': u'Yukon', 'country_ISO_code': 'CA', 'region': u'Yukon', 'country_id': 11, 'country_name': 'Canada', '_id': ObjectId('564ffecae7cc2103c5f85bdd')}\n",
      "<pymongo.results.InsertOneResult object at 0x104ca4b40>\n",
      "{'province': u'Alberta', 'country_ISO_code': 'CA', 'region': u'West', 'country_id': 12, 'country_name': 'Canada', '_id': ObjectId('564ffecae7cc2103c5f85bde')}\n",
      "<pymongo.results.InsertOneResult object at 0x104ca4c80>\n"
     ]
    }
   ],
   "source": [
    "from pymongo import MongoClient\n",
    "\n",
    "client = MongoClient()\n",
    "#Select customer data from Transaction Database\n",
    "db = client.ecommerceDB\n",
    "cursor = db.customer.find()\n",
    "\n",
    "#Delete country data in Data Warehouse\n",
    "dw = client.ecommerceDW\n",
    "dw.country.delete_many({})\n",
    "\n",
    "count = 0\n",
    "countryName = [];\n",
    "countryISOCode = []\n",
    "province = []\n",
    "region = []\n",
    "#Find unique country data\n",
    "for document in cursor:\n",
    "\tif (document['province'] not in province) or (document['region'] not in region):\n",
    "\t\tprovince.append(document['province'])\n",
    "\t\tregion.append(document['region'])\n",
    "\t\tif document['country'] == 'CA':\n",
    "\t\t\tcountryName.append(\"Canada\")\n",
    "\t\telse:\n",
    "\t\t\tcountryName.append(\"\")\n",
    "\t\tcountryISOCode.append('CA')\n",
    "\t\t\n",
    "#Insert JSON String into country dimension\n",
    "for j in range(0,len(province)):\n",
    "\tjsonString = {'country_id':count,'country_name':countryName[j],'province':province[j],'region':region[j],'country_ISO_code':countryISOCode[j],'country_name':countryName[j]}\n",
    "\tresult = dw.country.insert_one(jsonString)\n",
    "\tprint jsonString\n",
    "\tprint result    \n",
    "\tcount = count +1\n"
   ]
  },
  {
   "cell_type": "code",
   "execution_count": null,
   "metadata": {
    "collapsed": true
   },
   "outputs": [],
   "source": []
  }
 ],
 "metadata": {
  "kernelspec": {
   "display_name": "Python 2",
   "language": "python",
   "name": "python2"
  },
  "language_info": {
   "codemirror_mode": {
    "name": "ipython",
    "version": 2
   },
   "file_extension": ".py",
   "mimetype": "text/x-python",
   "name": "python",
   "nbconvert_exporter": "python",
   "pygments_lexer": "ipython2",
   "version": "2.7.10"
  }
 },
 "nbformat": 4,
 "nbformat_minor": 0
}
