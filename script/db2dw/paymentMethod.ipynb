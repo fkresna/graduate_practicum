{
 "cells": [
  {
   "cell_type": "code",
   "execution_count": 1,
   "metadata": {
    "collapsed": false
   },
   "outputs": [
    {
     "name": "stdout",
     "output_type": "stream",
     "text": [
      "<pymongo.results.InsertOneResult object at 0x104b77b90>\n",
      "{'_id': ObjectId('5647e3374bc976034acb3781'), 'name': u'visa', 'payment_method_id': 0}\n",
      "<pymongo.results.InsertOneResult object at 0x104b77c30>\n",
      "{'_id': ObjectId('5647e3374bc976034acb3782'), 'name': u'mastercard', 'payment_method_id': 1}\n",
      "<pymongo.results.InsertOneResult object at 0x104b77b40>\n",
      "{'_id': ObjectId('5647e3374bc976034acb3783'), 'name': u'paypal', 'payment_method_id': 2}\n"
     ]
    }
   ],
   "source": [
    "from pymongo import MongoClient\n",
    "\n",
    "client = MongoClient()\n",
    "db = client.ecommerceDB\n",
    "#Select payment_method data from Transaction Database\n",
    "cursor = db.payment_method.find()\n",
    "\n",
    "dw = client.ecommerceDW\n",
    "#Delete existing data in payment_method dimension\n",
    "dw.payment_method.delete_many({})\n",
    "\n",
    "#Insert JSON String into payment_method Dimension\n",
    "for document in cursor:\n",
    "\tjsonString = {'payment_method_id':document['payment_method_id'],'name':document['name']}\n",
    "\tresult = dw.payment_method.insert_one(jsonString)\n",
    "\tprint result\n",
    "\tprint jsonString\n"
   ]
  },
  {
   "cell_type": "code",
   "execution_count": null,
   "metadata": {
    "collapsed": true
   },
   "outputs": [],
   "source": []
  }
 ],
 "metadata": {
  "kernelspec": {
   "display_name": "Python 2",
   "language": "python",
   "name": "python2"
  },
  "language_info": {
   "codemirror_mode": {
    "name": "ipython",
    "version": 2
   },
   "file_extension": ".py",
   "mimetype": "text/x-python",
   "name": "python",
   "nbconvert_exporter": "python",
   "pygments_lexer": "ipython2",
   "version": "2.7.10"
  }
 },
 "nbformat": 4,
 "nbformat_minor": 0
}
