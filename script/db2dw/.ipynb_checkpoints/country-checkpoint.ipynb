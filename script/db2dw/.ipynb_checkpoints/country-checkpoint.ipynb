{
 "cells": [
  {
   "cell_type": "code",
   "execution_count": 3,
   "metadata": {
    "collapsed": false
   },
   "outputs": [
    {
     "name": "stdout",
     "output_type": "stream",
     "text": [
      "{'country_name': 'Canada', 'province': u'Nunavut', 'region': u'Nunavut', 'country_id': 0, 'country_ISO_code': 'CA'}\n",
      "{'country_name': 'Canada', 'province': u'Northwest Territories', 'region': u'Northwest Territories', 'country_id': 1, 'country_ISO_code': 'CA'}\n",
      "{'country_name': 'Canada', 'province': u'Prince Edward Island', 'region': u'Atlantic', 'country_id': 2, 'country_ISO_code': 'CA'}\n",
      "{'country_name': 'Canada', 'province': u'Manitoba', 'region': u'Prarie', 'country_id': 3, 'country_ISO_code': 'CA'}\n",
      "{'country_name': 'Canada', 'province': u'British Columbia', 'region': u'West', 'country_id': 4, 'country_ISO_code': 'CA'}\n",
      "{'country_name': 'Canada', 'province': u'Nova Scotia', 'region': u'Atlantic', 'country_id': 5, 'country_ISO_code': 'CA'}\n",
      "{'country_name': 'Canada', 'province': u'Ontario', 'region': u'Ontario', 'country_id': 6, 'country_ISO_code': 'CA'}\n",
      "{'country_name': 'Canada', 'province': u'Newfoundland', 'region': u'Atlantic', 'country_id': 7, 'country_ISO_code': 'CA'}\n",
      "{'country_name': 'Canada', 'province': u'Quebec', 'region': u'Quebec', 'country_id': 8, 'country_ISO_code': 'CA'}\n",
      "{'country_name': 'Canada', 'province': u'New Brunswick', 'region': u'Atlantic', 'country_id': 9, 'country_ISO_code': 'CA'}\n",
      "{'country_name': 'Canada', 'province': u'Saskachewan', 'region': u'Prarie', 'country_id': 10, 'country_ISO_code': 'CA'}\n",
      "{'country_name': 'Canada', 'province': u'Yukon', 'region': u'Yukon', 'country_id': 11, 'country_ISO_code': 'CA'}\n",
      "{'country_name': 'Canada', 'province': u'Alberta', 'region': u'West', 'country_id': 12, 'country_ISO_code': 'CA'}\n"
     ]
    }
   ],
   "source": [
    "from pymongo import MongoClient\n",
    "\n",
    "client = MongoClient()\n",
    "#Select customer data from Transaction Database\n",
    "db = client.ecommerceDB\n",
    "cursor = db.customer.find()\n",
    "\n",
    "#Delete country data in Data Warehouse\n",
    "dw = client.ecommerceDW\n",
    "dw.country.delete_many({})\n",
    "\n",
    "count = 0\n",
    "countryName = [];\n",
    "countryISOCode = []\n",
    "province = []\n",
    "region = []\n",
    "#Find unique country data\n",
    "for document in cursor:\n",
    "\tif (document['province'] not in province) or (document['region'] not in region):\n",
    "\t\tprovince.append(document['province'])\n",
    "\t\tregion.append(document['region'])\n",
    "\t\tif document['country'] == 'CA':\n",
    "\t\t\tcountryName.append(\"Canada\")\n",
    "\t\telse:\n",
    "\t\t\tcountryName.append(\"\")\n",
    "\t\tcountryISOCode.append('CA')\n",
    "\t\t\n",
    "#Insert JSON String into country dimension\n",
    "for j in range(0,len(province)):\n",
    "\tjsonString = {'country_id':count,'country_name':countryName[j],'province':province[j],'region':region[j],'country_ISO_code':countryISOCode[j],'country_name':countryName[j]}\n",
    "\tprint jsonString\n",
    "\tcount = count +1\n"
   ]
  },
  {
   "cell_type": "code",
   "execution_count": null,
   "metadata": {
    "collapsed": true
   },
   "outputs": [],
   "source": []
  }
 ],
 "metadata": {
  "kernelspec": {
   "display_name": "Python 2",
   "language": "python",
   "name": "python2"
  },
  "language_info": {
   "codemirror_mode": {
    "name": "ipython",
    "version": 2
   },
   "file_extension": ".py",
   "mimetype": "text/x-python",
   "name": "python",
   "nbconvert_exporter": "python",
   "pygments_lexer": "ipython2",
   "version": "2.7.10"
  }
 },
 "nbformat": 4,
 "nbformat_minor": 0
}
