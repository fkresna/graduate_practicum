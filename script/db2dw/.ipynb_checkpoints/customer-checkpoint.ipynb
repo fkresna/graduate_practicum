{
 "cells": [
  {
   "cell_type": "code",
   "execution_count": 3,
   "metadata": {
    "collapsed": false
   },
   "outputs": [
    {
     "name": "stdout",
     "output_type": "stream",
     "text": [
      "<pymongo.results.InsertOneResult object at 0x104cf02d0>\n",
      "{'customer_segment': u'Small Business', '_id': ObjectId('5647cf722eb309034c1cf589')}\n",
      "<pymongo.results.InsertOneResult object at 0x104cf0280>\n",
      "{'customer_segment': u'Consumer', '_id': ObjectId('5647cf722eb309034c1cf58a')}\n",
      "<pymongo.results.InsertOneResult object at 0x104cf0050>\n",
      "{'customer_segment': u'Corporate', '_id': ObjectId('5647cf722eb309034c1cf58b')}\n",
      "<pymongo.results.InsertOneResult object at 0x104cf02d0>\n",
      "{'customer_segment': u'Home Office', '_id': ObjectId('5647cf722eb309034c1cf58c')}\n"
     ]
    }
   ],
   "source": [
    "import csv\n",
    "from pymongo import MongoClient\n",
    "\n",
    "client = MongoClient()\n",
    "db = client.ecommerceDB\n",
    "#Select customer data from Transaction Database\n",
    "cursor = db.customer.find()\n",
    "\n",
    "#Delete Previous Customer Dimension Data\n",
    "dw = client.ecommerceDW\n",
    "dw.customer.delete_many({})\n",
    "\n",
    "#Find unique customer segment in customer data\n",
    "customer_segment = []\n",
    "for document in cursor:\n",
    "\tif document['customer_segment'] not in customer_segment:\n",
    "\t\tcustomer_segment.append(document['customer_segment'])\n",
    "\n",
    "#Insert JSON String into customer dimension\n",
    "for j in range(0,len(customer_segment)):\n",
    "\tjsonString = {'customer_segment':customer_segment[j]}\n",
    "\tresult = dw.customer.insert_one(jsonString)\n",
    "\tprint result\n",
    "\tprint jsonString\n"
   ]
  },
  {
   "cell_type": "code",
   "execution_count": null,
   "metadata": {
    "collapsed": true
   },
   "outputs": [],
   "source": []
  }
 ],
 "metadata": {
  "kernelspec": {
   "display_name": "Python 2",
   "language": "python",
   "name": "python2"
  },
  "language_info": {
   "codemirror_mode": {
    "name": "ipython",
    "version": 2
   },
   "file_extension": ".py",
   "mimetype": "text/x-python",
   "name": "python",
   "nbconvert_exporter": "python",
   "pygments_lexer": "ipython2",
   "version": "2.7.10"
  }
 },
 "nbformat": 4,
 "nbformat_minor": 0
}
