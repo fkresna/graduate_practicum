{
 "cells": [
  {
   "cell_type": "code",
   "execution_count": 1,
   "metadata": {
    "collapsed": false
   },
   "outputs": [
    {
     "name": "stdout",
     "output_type": "stream",
     "text": [
      "<pymongo.results.InsertOneResult object at 0x104c7ae10>\n",
      "{'payment_status_id': 0, '_id': ObjectId('5647e3f04bc9760355469c94'), 'name': u'paid'}\n",
      "<pymongo.results.InsertOneResult object at 0x104c7afa0>\n",
      "{'payment_status_id': 1, '_id': ObjectId('5647e3f04bc9760355469c95'), 'name': u'refund'}\n",
      "<pymongo.results.InsertOneResult object at 0x104c7af00>\n",
      "{'payment_status_id': 2, '_id': ObjectId('5647e3f04bc9760355469c96'), 'name': u'chargeback'}\n",
      "<pymongo.results.InsertOneResult object at 0x104c7af50>\n",
      "{'payment_status_id': 3, '_id': ObjectId('5647e3f04bc9760355469c97'), 'name': u'pending'}\n",
      "<pymongo.results.InsertOneResult object at 0x104c7ae10>\n",
      "{'payment_status_id': 4, '_id': ObjectId('5647e3f04bc9760355469c98'), 'name': u'authorized'}\n",
      "<pymongo.results.InsertOneResult object at 0x104c7afa0>\n",
      "{'payment_status_id': 5, '_id': ObjectId('5647e3f04bc9760355469c99'), 'name': u'fail'}\n",
      "<pymongo.results.InsertOneResult object at 0x104c7af00>\n",
      "{'payment_status_id': 6, '_id': ObjectId('5647e3f04bc9760355469c9a'), 'name': u'declined'}\n"
     ]
    }
   ],
   "source": [
    "import csv\n",
    "from pymongo import MongoClient\n",
    "\n",
    "client = MongoClient()\n",
    "db = client.ecommerceDB\n",
    "#Select all data from payment_status table in Transaction database\n",
    "cursor = db.payment_status.find()\n",
    "\n",
    "dw = client.ecommerceDW\n",
    "#Delete data in payment_status dimension\n",
    "dw.payment_status.delete_many({})\n",
    "\n",
    "#Insert JSON String in payment_status dimension\n",
    "for document in cursor:\n",
    "\tjsonString = {'payment_status_id':document['payment_status_id'],'name':document['name']}\n",
    "\tresult = dw.payment_status.insert_one(jsonString)\n",
    "\tprint result\n",
    "\tprint jsonString\n"
   ]
  },
  {
   "cell_type": "code",
   "execution_count": null,
   "metadata": {
    "collapsed": true
   },
   "outputs": [],
   "source": []
  }
 ],
 "metadata": {
  "kernelspec": {
   "display_name": "Python 2",
   "language": "python",
   "name": "python2"
  },
  "language_info": {
   "codemirror_mode": {
    "name": "ipython",
    "version": 2
   },
   "file_extension": ".py",
   "mimetype": "text/x-python",
   "name": "python",
   "nbconvert_exporter": "python",
   "pygments_lexer": "ipython2",
   "version": "2.7.10"
  }
 },
 "nbformat": 4,
 "nbformat_minor": 0
}
