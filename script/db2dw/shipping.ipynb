{
 "cells": [
  {
   "cell_type": "code",
   "execution_count": 1,
   "metadata": {
    "collapsed": false
   },
   "outputs": [
    {
     "name": "stdout",
     "output_type": "stream",
     "text": [
      "<pymongo.results.InsertOneResult object at 0x104b6fe10>\n",
      "{'_id': ObjectId('5647f5414bc97604289bac92'), 'shipping_id': 0, 'name': u'Regular Air'}\n",
      "<pymongo.results.InsertOneResult object at 0x104b6ffa0>\n",
      "{'_id': ObjectId('5647f5414bc97604289bac93'), 'shipping_id': 1, 'name': u'Delivery Truck'}\n",
      "<pymongo.results.InsertOneResult object at 0x104b6ff00>\n",
      "{'_id': ObjectId('5647f5414bc97604289bac94'), 'shipping_id': 2, 'name': u'Express Air'}\n"
     ]
    }
   ],
   "source": [
    "import csv\n",
    "from pymongo import MongoClient\n",
    "\n",
    "client = MongoClient()\n",
    "\n",
    "#Select all data in shipping table\n",
    "db = client.ecommerceDB\n",
    "cursor = db.shipping.find()\n",
    "\n",
    "#Delete Existing data in Shipping dimension\n",
    "dw = client.ecommerceDW\n",
    "dw.shipping.delete_many({})\n",
    "\n",
    "#Insert JSON String in shipping dimension\n",
    "for document in cursor:\n",
    "\tjsonString = {'shipping_id':document['shipping_id'],'name':document['name']}\n",
    "\tresult = dw.shipping.insert_one(jsonString)\n",
    "\tprint result\n",
    "\tprint jsonString\n"
   ]
  },
  {
   "cell_type": "code",
   "execution_count": null,
   "metadata": {
    "collapsed": true
   },
   "outputs": [],
   "source": []
  }
 ],
 "metadata": {
  "kernelspec": {
   "display_name": "Python 2",
   "language": "python",
   "name": "python2"
  },
  "language_info": {
   "codemirror_mode": {
    "name": "ipython",
    "version": 2
   },
   "file_extension": ".py",
   "mimetype": "text/x-python",
   "name": "python",
   "nbconvert_exporter": "python",
   "pygments_lexer": "ipython2",
   "version": "2.7.10"
  }
 },
 "nbformat": 4,
 "nbformat_minor": 0
}
