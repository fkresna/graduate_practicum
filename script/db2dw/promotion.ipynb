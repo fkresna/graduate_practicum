{
 "cells": [
  {
   "cell_type": "code",
   "execution_count": null,
   "metadata": {
    "collapsed": true
   },
   "outputs": [],
   "source": [
    "import csv\n",
    "from pymongo import MongoClient\n",
    "\n",
    "client = MongoClient()\n",
    "\n",
    "#Select all data in promotion table\n",
    "db = client.ecommerceDB\n",
    "cursor = db.promotion.find()\n",
    "\n",
    "#Delete Existing data in promotion dimension\n",
    "dw = client.ecommerceDW\n",
    "dw.promotion.delete_many({})\n",
    "\n",
    "#Insert JSON String in promotion dimension\n",
    "for document in cursor:\n",
    "\tjsonString = {'coupon_code':document['coupon_code','start_date':document['start_date'],'expiry_date':document['expiry_date'],'description':document['description'],'discount_amount':document['discount_amount']}\n",
    "\tresult = dw.promotion.insert_one(jsonString)\n",
    "\tprint result\n",
    "\tprint jsonString"
   ]
  }
 ],
 "metadata": {
  "kernelspec": {
   "display_name": "Python 2",
   "language": "python",
   "name": "python2"
  },
  "language_info": {
   "codemirror_mode": {
    "name": "ipython",
    "version": 2
   },
   "file_extension": ".py",
   "mimetype": "text/x-python",
   "name": "python",
   "nbconvert_exporter": "python",
   "pygments_lexer": "ipython2",
   "version": "2.7.10"
  }
 },
 "nbformat": 4,
 "nbformat_minor": 0
}
