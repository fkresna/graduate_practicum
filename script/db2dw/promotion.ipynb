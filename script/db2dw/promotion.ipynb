{
 "cells": [
  {
   "cell_type": "code",
   "execution_count": 2,
   "metadata": {
    "collapsed": false
   },
   "outputs": [
    {
     "name": "stdout",
     "output_type": "stream",
     "text": [
      "<pymongo.results.InsertOneResult object at 0x104ce10a0>\n",
      "{'description': u'', 'coupon_code': 1, 'expiry_date': u'', '_id': ObjectId('5647f74b4bc9760485642d0f'), 'start_date': datetime.datetime(9, 1, 1, 0, 0), 'discount_amount': u'0.01'}\n",
      "<pymongo.results.InsertOneResult object at 0x104ce10f0>\n",
      "{'description': u'', 'coupon_code': 8, 'expiry_date': u'', '_id': ObjectId('5647f74b4bc9760485642d10'), 'start_date': datetime.datetime(9, 1, 1, 0, 0), 'discount_amount': u'0.08'}\n",
      "<pymongo.results.InsertOneResult object at 0x104ce1050>\n",
      "{'description': u'', 'coupon_code': 5, 'expiry_date': u'', '_id': ObjectId('5647f74b4bc9760485642d11'), 'start_date': datetime.datetime(9, 1, 1, 0, 0), 'discount_amount': u'0.05'}\n",
      "<pymongo.results.InsertOneResult object at 0x104ce10a0>\n",
      "{'description': u'', 'coupon_code': 3, 'expiry_date': u'', '_id': ObjectId('5647f74b4bc9760485642d12'), 'start_date': datetime.datetime(9, 1, 1, 0, 0), 'discount_amount': u'0.03'}\n",
      "<pymongo.results.InsertOneResult object at 0x104ce10f0>\n",
      "{'description': u'', 'coupon_code': 9, 'expiry_date': u'', '_id': ObjectId('5647f74b4bc9760485642d13'), 'start_date': datetime.datetime(9, 1, 1, 0, 0), 'discount_amount': u'0.09'}\n",
      "<pymongo.results.InsertOneResult object at 0x104ce1050>\n",
      "{'description': u'', 'coupon_code': 0, 'expiry_date': u'', '_id': ObjectId('5647f74c4bc9760485642d14'), 'start_date': datetime.datetime(9, 1, 1, 0, 0), 'discount_amount': u'0'}\n",
      "<pymongo.results.InsertOneResult object at 0x104ce10a0>\n",
      "{'description': u'', 'coupon_code': 2, 'expiry_date': u'', '_id': ObjectId('5647f74c4bc9760485642d15'), 'start_date': datetime.datetime(9, 1, 1, 0, 0), 'discount_amount': u'0.02'}\n",
      "<pymongo.results.InsertOneResult object at 0x104ce10f0>\n",
      "{'description': u'', 'coupon_code': 25, 'expiry_date': u'', '_id': ObjectId('5647f74c4bc9760485642d16'), 'start_date': datetime.datetime(9, 1, 1, 0, 0), 'discount_amount': u'0.25'}\n",
      "<pymongo.results.InsertOneResult object at 0x104ce1050>\n",
      "{'description': u'', 'coupon_code': 6, 'expiry_date': u'', '_id': ObjectId('5647f74c4bc9760485642d17'), 'start_date': datetime.datetime(9, 1, 1, 0, 0), 'discount_amount': u'0.06'}\n",
      "<pymongo.results.InsertOneResult object at 0x104ce10a0>\n",
      "{'description': u'', 'coupon_code': 10, 'expiry_date': u'', '_id': ObjectId('5647f74c4bc9760485642d18'), 'start_date': datetime.datetime(9, 1, 1, 0, 0), 'discount_amount': u'0.1'}\n",
      "<pymongo.results.InsertOneResult object at 0x104ce10f0>\n",
      "{'description': u'', 'coupon_code': 21, 'expiry_date': u'', '_id': ObjectId('5647f74c4bc9760485642d19'), 'start_date': datetime.datetime(9, 1, 1, 0, 0), 'discount_amount': u'0.21'}\n",
      "<pymongo.results.InsertOneResult object at 0x104ce1050>\n",
      "{'description': u'', 'coupon_code': 11, 'expiry_date': u'', '_id': ObjectId('5647f74c4bc9760485642d1a'), 'start_date': datetime.datetime(9, 1, 1, 0, 0), 'discount_amount': u'0.11'}\n",
      "<pymongo.results.InsertOneResult object at 0x104ce10a0>\n",
      "{'description': u'', 'coupon_code': 17, 'expiry_date': u'', '_id': ObjectId('5647f74c4bc9760485642d1b'), 'start_date': datetime.datetime(9, 1, 1, 0, 0), 'discount_amount': u'0.17'}\n",
      "<pymongo.results.InsertOneResult object at 0x104ce10f0>\n",
      "{'description': u'', 'coupon_code': 16, 'expiry_date': u'', '_id': ObjectId('5647f74c4bc9760485642d1c'), 'start_date': datetime.datetime(9, 1, 1, 0, 0), 'discount_amount': u'0.16'}\n",
      "<pymongo.results.InsertOneResult object at 0x104ce1050>\n",
      "{'description': u'', 'coupon_code': 4, 'expiry_date': u'', '_id': ObjectId('5647f74c4bc9760485642d1d'), 'start_date': datetime.datetime(9, 1, 1, 0, 0), 'discount_amount': u'0.04'}\n",
      "<pymongo.results.InsertOneResult object at 0x104ce10a0>\n",
      "{'description': u'', 'coupon_code': 7, 'expiry_date': u'', '_id': ObjectId('5647f74c4bc9760485642d1e'), 'start_date': datetime.datetime(9, 1, 1, 0, 0), 'discount_amount': u'0.07'}\n"
     ]
    }
   ],
   "source": [
    "import csv\n",
    "from pymongo import MongoClient\n",
    "\n",
    "client = MongoClient()\n",
    "\n",
    "#Select all data in promotion table\n",
    "db = client.ecommerceDB\n",
    "cursor = db.promotion.find()\n",
    "\n",
    "#Delete Existing data in promotion dimension\n",
    "dw = client.ecommerceDW\n",
    "dw.promotion.delete_many({})\n",
    "\n",
    "#Insert JSON String in promotion dimension\n",
    "for document in cursor:\n",
    "\tjsonString = {'coupon_code':document['coupon_code'],'start_date':document['start_date'],'expiry_date':document['expiry_date'],'description':document['description'],'discount_amount':document['discount_amount']}\n",
    "\tresult = dw.promotion.insert_one(jsonString)\n",
    "\tprint result\n",
    "\tprint jsonString"
   ]
  },
  {
   "cell_type": "code",
   "execution_count": null,
   "metadata": {
    "collapsed": true
   },
   "outputs": [],
   "source": []
  }
 ],
 "metadata": {
  "kernelspec": {
   "display_name": "Python 2",
   "language": "python",
   "name": "python2"
  },
  "language_info": {
   "codemirror_mode": {
    "name": "ipython",
    "version": 2
   },
   "file_extension": ".py",
   "mimetype": "text/x-python",
   "name": "python",
   "nbconvert_exporter": "python",
   "pygments_lexer": "ipython2",
   "version": "2.7.10"
  }
 },
 "nbformat": 4,
 "nbformat_minor": 0
}
